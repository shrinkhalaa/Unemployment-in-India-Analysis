{
  "nbformat": 4,
  "nbformat_minor": 0,
  "metadata": {
    "colab": {
      "provenance": []
    },
    "kernelspec": {
      "name": "python3",
      "display_name": "Python 3"
    },
    "language_info": {
      "name": "python"
    }
  },
  "cells": [
    {
      "cell_type": "code",
      "execution_count": 4,
      "metadata": {
        "id": "BfJtAdCDgT1w"
      },
      "outputs": [],
      "source": [
        "import pandas as pd\n",
        "import numpy as np"
      ]
    },
    {
      "cell_type": "code",
      "source": [
        "data= pd.read_csv('Unemployment in India.csv')"
      ],
      "metadata": {
        "id": "_BraEwgIhnBN"
      },
      "execution_count": 5,
      "outputs": []
    },
    {
      "cell_type": "markdown",
      "source": [
        "## Exploratory Data Analysis"
      ],
      "metadata": {
        "id": "RHH4aCNdOWQN"
      }
    },
    {
      "cell_type": "code",
      "source": [
        "data.columns"
      ],
      "metadata": {
        "colab": {
          "base_uri": "https://localhost:8080/"
        },
        "id": "FIjGdFqFhzat",
        "outputId": "3ea83abe-906c-42b1-8b5a-ea6a737c0bf7"
      },
      "execution_count": 6,
      "outputs": [
        {
          "output_type": "execute_result",
          "data": {
            "text/plain": [
              "Index(['Region', ' Date', ' Frequency', ' Estimated Unemployment Rate (%)',\n",
              "       ' Estimated Employed', ' Estimated Labour Participation Rate (%)',\n",
              "       'Area'],\n",
              "      dtype='object')"
            ]
          },
          "metadata": {},
          "execution_count": 6
        }
      ]
    },
    {
      "cell_type": "code",
      "source": [
        "data"
      ],
      "metadata": {
        "colab": {
          "base_uri": "https://localhost:8080/",
          "height": 423
        },
        "id": "Sj3q_8t0jh3r",
        "outputId": "9d0e480b-a472-4508-ea55-f421f251cea3"
      },
      "execution_count": 7,
      "outputs": [
        {
          "output_type": "execute_result",
          "data": {
            "text/plain": [
              "             Region         Date  Frequency   Estimated Unemployment Rate (%)  \\\n",
              "0    Andhra Pradesh   31-05-2019    Monthly                              3.65   \n",
              "1    Andhra Pradesh   30-06-2019    Monthly                              3.05   \n",
              "2    Andhra Pradesh   31-07-2019    Monthly                              3.75   \n",
              "3    Andhra Pradesh   31-08-2019    Monthly                              3.32   \n",
              "4    Andhra Pradesh   30-09-2019    Monthly                              5.17   \n",
              "..              ...          ...        ...                               ...   \n",
              "763             NaN          NaN        NaN                               NaN   \n",
              "764             NaN          NaN        NaN                               NaN   \n",
              "765             NaN          NaN        NaN                               NaN   \n",
              "766             NaN          NaN        NaN                               NaN   \n",
              "767             NaN          NaN        NaN                               NaN   \n",
              "\n",
              "      Estimated Employed   Estimated Labour Participation Rate (%)   Area  \n",
              "0             11999139.0                                     43.24  Rural  \n",
              "1             11755881.0                                     42.05  Rural  \n",
              "2             12086707.0                                     43.50  Rural  \n",
              "3             12285693.0                                     43.97  Rural  \n",
              "4             12256762.0                                     44.68  Rural  \n",
              "..                   ...                                       ...    ...  \n",
              "763                  NaN                                       NaN    NaN  \n",
              "764                  NaN                                       NaN    NaN  \n",
              "765                  NaN                                       NaN    NaN  \n",
              "766                  NaN                                       NaN    NaN  \n",
              "767                  NaN                                       NaN    NaN  \n",
              "\n",
              "[768 rows x 7 columns]"
            ],
            "text/html": [
              "\n",
              "  <div id=\"df-503849f8-ae72-41da-b662-c32571529a6f\" class=\"colab-df-container\">\n",
              "    <div>\n",
              "<style scoped>\n",
              "    .dataframe tbody tr th:only-of-type {\n",
              "        vertical-align: middle;\n",
              "    }\n",
              "\n",
              "    .dataframe tbody tr th {\n",
              "        vertical-align: top;\n",
              "    }\n",
              "\n",
              "    .dataframe thead th {\n",
              "        text-align: right;\n",
              "    }\n",
              "</style>\n",
              "<table border=\"1\" class=\"dataframe\">\n",
              "  <thead>\n",
              "    <tr style=\"text-align: right;\">\n",
              "      <th></th>\n",
              "      <th>Region</th>\n",
              "      <th>Date</th>\n",
              "      <th>Frequency</th>\n",
              "      <th>Estimated Unemployment Rate (%)</th>\n",
              "      <th>Estimated Employed</th>\n",
              "      <th>Estimated Labour Participation Rate (%)</th>\n",
              "      <th>Area</th>\n",
              "    </tr>\n",
              "  </thead>\n",
              "  <tbody>\n",
              "    <tr>\n",
              "      <th>0</th>\n",
              "      <td>Andhra Pradesh</td>\n",
              "      <td>31-05-2019</td>\n",
              "      <td>Monthly</td>\n",
              "      <td>3.65</td>\n",
              "      <td>11999139.0</td>\n",
              "      <td>43.24</td>\n",
              "      <td>Rural</td>\n",
              "    </tr>\n",
              "    <tr>\n",
              "      <th>1</th>\n",
              "      <td>Andhra Pradesh</td>\n",
              "      <td>30-06-2019</td>\n",
              "      <td>Monthly</td>\n",
              "      <td>3.05</td>\n",
              "      <td>11755881.0</td>\n",
              "      <td>42.05</td>\n",
              "      <td>Rural</td>\n",
              "    </tr>\n",
              "    <tr>\n",
              "      <th>2</th>\n",
              "      <td>Andhra Pradesh</td>\n",
              "      <td>31-07-2019</td>\n",
              "      <td>Monthly</td>\n",
              "      <td>3.75</td>\n",
              "      <td>12086707.0</td>\n",
              "      <td>43.50</td>\n",
              "      <td>Rural</td>\n",
              "    </tr>\n",
              "    <tr>\n",
              "      <th>3</th>\n",
              "      <td>Andhra Pradesh</td>\n",
              "      <td>31-08-2019</td>\n",
              "      <td>Monthly</td>\n",
              "      <td>3.32</td>\n",
              "      <td>12285693.0</td>\n",
              "      <td>43.97</td>\n",
              "      <td>Rural</td>\n",
              "    </tr>\n",
              "    <tr>\n",
              "      <th>4</th>\n",
              "      <td>Andhra Pradesh</td>\n",
              "      <td>30-09-2019</td>\n",
              "      <td>Monthly</td>\n",
              "      <td>5.17</td>\n",
              "      <td>12256762.0</td>\n",
              "      <td>44.68</td>\n",
              "      <td>Rural</td>\n",
              "    </tr>\n",
              "    <tr>\n",
              "      <th>...</th>\n",
              "      <td>...</td>\n",
              "      <td>...</td>\n",
              "      <td>...</td>\n",
              "      <td>...</td>\n",
              "      <td>...</td>\n",
              "      <td>...</td>\n",
              "      <td>...</td>\n",
              "    </tr>\n",
              "    <tr>\n",
              "      <th>763</th>\n",
              "      <td>NaN</td>\n",
              "      <td>NaN</td>\n",
              "      <td>NaN</td>\n",
              "      <td>NaN</td>\n",
              "      <td>NaN</td>\n",
              "      <td>NaN</td>\n",
              "      <td>NaN</td>\n",
              "    </tr>\n",
              "    <tr>\n",
              "      <th>764</th>\n",
              "      <td>NaN</td>\n",
              "      <td>NaN</td>\n",
              "      <td>NaN</td>\n",
              "      <td>NaN</td>\n",
              "      <td>NaN</td>\n",
              "      <td>NaN</td>\n",
              "      <td>NaN</td>\n",
              "    </tr>\n",
              "    <tr>\n",
              "      <th>765</th>\n",
              "      <td>NaN</td>\n",
              "      <td>NaN</td>\n",
              "      <td>NaN</td>\n",
              "      <td>NaN</td>\n",
              "      <td>NaN</td>\n",
              "      <td>NaN</td>\n",
              "      <td>NaN</td>\n",
              "    </tr>\n",
              "    <tr>\n",
              "      <th>766</th>\n",
              "      <td>NaN</td>\n",
              "      <td>NaN</td>\n",
              "      <td>NaN</td>\n",
              "      <td>NaN</td>\n",
              "      <td>NaN</td>\n",
              "      <td>NaN</td>\n",
              "      <td>NaN</td>\n",
              "    </tr>\n",
              "    <tr>\n",
              "      <th>767</th>\n",
              "      <td>NaN</td>\n",
              "      <td>NaN</td>\n",
              "      <td>NaN</td>\n",
              "      <td>NaN</td>\n",
              "      <td>NaN</td>\n",
              "      <td>NaN</td>\n",
              "      <td>NaN</td>\n",
              "    </tr>\n",
              "  </tbody>\n",
              "</table>\n",
              "<p>768 rows × 7 columns</p>\n",
              "</div>\n",
              "    <div class=\"colab-df-buttons\">\n",
              "\n",
              "  <div class=\"colab-df-container\">\n",
              "    <button class=\"colab-df-convert\" onclick=\"convertToInteractive('df-503849f8-ae72-41da-b662-c32571529a6f')\"\n",
              "            title=\"Convert this dataframe to an interactive table.\"\n",
              "            style=\"display:none;\">\n",
              "\n",
              "  <svg xmlns=\"http://www.w3.org/2000/svg\" height=\"24px\" viewBox=\"0 -960 960 960\">\n",
              "    <path d=\"M120-120v-720h720v720H120Zm60-500h600v-160H180v160Zm220 220h160v-160H400v160Zm0 220h160v-160H400v160ZM180-400h160v-160H180v160Zm440 0h160v-160H620v160ZM180-180h160v-160H180v160Zm440 0h160v-160H620v160Z\"/>\n",
              "  </svg>\n",
              "    </button>\n",
              "\n",
              "  <style>\n",
              "    .colab-df-container {\n",
              "      display:flex;\n",
              "      gap: 12px;\n",
              "    }\n",
              "\n",
              "    .colab-df-convert {\n",
              "      background-color: #E8F0FE;\n",
              "      border: none;\n",
              "      border-radius: 50%;\n",
              "      cursor: pointer;\n",
              "      display: none;\n",
              "      fill: #1967D2;\n",
              "      height: 32px;\n",
              "      padding: 0 0 0 0;\n",
              "      width: 32px;\n",
              "    }\n",
              "\n",
              "    .colab-df-convert:hover {\n",
              "      background-color: #E2EBFA;\n",
              "      box-shadow: 0px 1px 2px rgba(60, 64, 67, 0.3), 0px 1px 3px 1px rgba(60, 64, 67, 0.15);\n",
              "      fill: #174EA6;\n",
              "    }\n",
              "\n",
              "    .colab-df-buttons div {\n",
              "      margin-bottom: 4px;\n",
              "    }\n",
              "\n",
              "    [theme=dark] .colab-df-convert {\n",
              "      background-color: #3B4455;\n",
              "      fill: #D2E3FC;\n",
              "    }\n",
              "\n",
              "    [theme=dark] .colab-df-convert:hover {\n",
              "      background-color: #434B5C;\n",
              "      box-shadow: 0px 1px 3px 1px rgba(0, 0, 0, 0.15);\n",
              "      filter: drop-shadow(0px 1px 2px rgba(0, 0, 0, 0.3));\n",
              "      fill: #FFFFFF;\n",
              "    }\n",
              "  </style>\n",
              "\n",
              "    <script>\n",
              "      const buttonEl =\n",
              "        document.querySelector('#df-503849f8-ae72-41da-b662-c32571529a6f button.colab-df-convert');\n",
              "      buttonEl.style.display =\n",
              "        google.colab.kernel.accessAllowed ? 'block' : 'none';\n",
              "\n",
              "      async function convertToInteractive(key) {\n",
              "        const element = document.querySelector('#df-503849f8-ae72-41da-b662-c32571529a6f');\n",
              "        const dataTable =\n",
              "          await google.colab.kernel.invokeFunction('convertToInteractive',\n",
              "                                                    [key], {});\n",
              "        if (!dataTable) return;\n",
              "\n",
              "        const docLinkHtml = 'Like what you see? Visit the ' +\n",
              "          '<a target=\"_blank\" href=https://colab.research.google.com/notebooks/data_table.ipynb>data table notebook</a>'\n",
              "          + ' to learn more about interactive tables.';\n",
              "        element.innerHTML = '';\n",
              "        dataTable['output_type'] = 'display_data';\n",
              "        await google.colab.output.renderOutput(dataTable, element);\n",
              "        const docLink = document.createElement('div');\n",
              "        docLink.innerHTML = docLinkHtml;\n",
              "        element.appendChild(docLink);\n",
              "      }\n",
              "    </script>\n",
              "  </div>\n",
              "\n",
              "\n",
              "<div id=\"df-78c26144-38f8-4a89-9951-04ad3855baf5\">\n",
              "  <button class=\"colab-df-quickchart\" onclick=\"quickchart('df-78c26144-38f8-4a89-9951-04ad3855baf5')\"\n",
              "            title=\"Suggest charts\"\n",
              "            style=\"display:none;\">\n",
              "\n",
              "<svg xmlns=\"http://www.w3.org/2000/svg\" height=\"24px\"viewBox=\"0 0 24 24\"\n",
              "     width=\"24px\">\n",
              "    <g>\n",
              "        <path d=\"M19 3H5c-1.1 0-2 .9-2 2v14c0 1.1.9 2 2 2h14c1.1 0 2-.9 2-2V5c0-1.1-.9-2-2-2zM9 17H7v-7h2v7zm4 0h-2V7h2v10zm4 0h-2v-4h2v4z\"/>\n",
              "    </g>\n",
              "</svg>\n",
              "  </button>\n",
              "\n",
              "<style>\n",
              "  .colab-df-quickchart {\n",
              "      --bg-color: #E8F0FE;\n",
              "      --fill-color: #1967D2;\n",
              "      --hover-bg-color: #E2EBFA;\n",
              "      --hover-fill-color: #174EA6;\n",
              "      --disabled-fill-color: #AAA;\n",
              "      --disabled-bg-color: #DDD;\n",
              "  }\n",
              "\n",
              "  [theme=dark] .colab-df-quickchart {\n",
              "      --bg-color: #3B4455;\n",
              "      --fill-color: #D2E3FC;\n",
              "      --hover-bg-color: #434B5C;\n",
              "      --hover-fill-color: #FFFFFF;\n",
              "      --disabled-bg-color: #3B4455;\n",
              "      --disabled-fill-color: #666;\n",
              "  }\n",
              "\n",
              "  .colab-df-quickchart {\n",
              "    background-color: var(--bg-color);\n",
              "    border: none;\n",
              "    border-radius: 50%;\n",
              "    cursor: pointer;\n",
              "    display: none;\n",
              "    fill: var(--fill-color);\n",
              "    height: 32px;\n",
              "    padding: 0;\n",
              "    width: 32px;\n",
              "  }\n",
              "\n",
              "  .colab-df-quickchart:hover {\n",
              "    background-color: var(--hover-bg-color);\n",
              "    box-shadow: 0 1px 2px rgba(60, 64, 67, 0.3), 0 1px 3px 1px rgba(60, 64, 67, 0.15);\n",
              "    fill: var(--button-hover-fill-color);\n",
              "  }\n",
              "\n",
              "  .colab-df-quickchart-complete:disabled,\n",
              "  .colab-df-quickchart-complete:disabled:hover {\n",
              "    background-color: var(--disabled-bg-color);\n",
              "    fill: var(--disabled-fill-color);\n",
              "    box-shadow: none;\n",
              "  }\n",
              "\n",
              "  .colab-df-spinner {\n",
              "    border: 2px solid var(--fill-color);\n",
              "    border-color: transparent;\n",
              "    border-bottom-color: var(--fill-color);\n",
              "    animation:\n",
              "      spin 1s steps(1) infinite;\n",
              "  }\n",
              "\n",
              "  @keyframes spin {\n",
              "    0% {\n",
              "      border-color: transparent;\n",
              "      border-bottom-color: var(--fill-color);\n",
              "      border-left-color: var(--fill-color);\n",
              "    }\n",
              "    20% {\n",
              "      border-color: transparent;\n",
              "      border-left-color: var(--fill-color);\n",
              "      border-top-color: var(--fill-color);\n",
              "    }\n",
              "    30% {\n",
              "      border-color: transparent;\n",
              "      border-left-color: var(--fill-color);\n",
              "      border-top-color: var(--fill-color);\n",
              "      border-right-color: var(--fill-color);\n",
              "    }\n",
              "    40% {\n",
              "      border-color: transparent;\n",
              "      border-right-color: var(--fill-color);\n",
              "      border-top-color: var(--fill-color);\n",
              "    }\n",
              "    60% {\n",
              "      border-color: transparent;\n",
              "      border-right-color: var(--fill-color);\n",
              "    }\n",
              "    80% {\n",
              "      border-color: transparent;\n",
              "      border-right-color: var(--fill-color);\n",
              "      border-bottom-color: var(--fill-color);\n",
              "    }\n",
              "    90% {\n",
              "      border-color: transparent;\n",
              "      border-bottom-color: var(--fill-color);\n",
              "    }\n",
              "  }\n",
              "</style>\n",
              "\n",
              "  <script>\n",
              "    async function quickchart(key) {\n",
              "      const quickchartButtonEl =\n",
              "        document.querySelector('#' + key + ' button');\n",
              "      quickchartButtonEl.disabled = true;  // To prevent multiple clicks.\n",
              "      quickchartButtonEl.classList.add('colab-df-spinner');\n",
              "      try {\n",
              "        const charts = await google.colab.kernel.invokeFunction(\n",
              "            'suggestCharts', [key], {});\n",
              "      } catch (error) {\n",
              "        console.error('Error during call to suggestCharts:', error);\n",
              "      }\n",
              "      quickchartButtonEl.classList.remove('colab-df-spinner');\n",
              "      quickchartButtonEl.classList.add('colab-df-quickchart-complete');\n",
              "    }\n",
              "    (() => {\n",
              "      let quickchartButtonEl =\n",
              "        document.querySelector('#df-78c26144-38f8-4a89-9951-04ad3855baf5 button');\n",
              "      quickchartButtonEl.style.display =\n",
              "        google.colab.kernel.accessAllowed ? 'block' : 'none';\n",
              "    })();\n",
              "  </script>\n",
              "</div>\n",
              "    </div>\n",
              "  </div>\n"
            ],
            "application/vnd.google.colaboratory.intrinsic+json": {
              "type": "dataframe",
              "variable_name": "data",
              "summary": "{\n  \"name\": \"data\",\n  \"rows\": 768,\n  \"fields\": [\n    {\n      \"column\": \"Region\",\n      \"properties\": {\n        \"dtype\": \"category\",\n        \"num_unique_values\": 28,\n        \"samples\": [\n          \"Jammu & Kashmir\",\n          \"Uttarakhand\",\n          \"Himachal Pradesh\"\n        ],\n        \"semantic_type\": \"\",\n        \"description\": \"\"\n      }\n    },\n    {\n      \"column\": \" Date\",\n      \"properties\": {\n        \"dtype\": \"object\",\n        \"num_unique_values\": 14,\n        \"samples\": [\n          \" 29-02-2020\",\n          \" 30-04-2020\",\n          \" 31-05-2019\"\n        ],\n        \"semantic_type\": \"\",\n        \"description\": \"\"\n      }\n    },\n    {\n      \"column\": \" Frequency\",\n      \"properties\": {\n        \"dtype\": \"category\",\n        \"num_unique_values\": 2,\n        \"samples\": [\n          \"Monthly\",\n          \" Monthly\"\n        ],\n        \"semantic_type\": \"\",\n        \"description\": \"\"\n      }\n    },\n    {\n      \"column\": \" Estimated Unemployment Rate (%)\",\n      \"properties\": {\n        \"dtype\": \"number\",\n        \"std\": 10.721298373157788,\n        \"min\": 0.0,\n        \"max\": 76.74,\n        \"num_unique_values\": 624,\n        \"samples\": [\n          22.01,\n          5.8\n        ],\n        \"semantic_type\": \"\",\n        \"description\": \"\"\n      }\n    },\n    {\n      \"column\": \" Estimated Employed\",\n      \"properties\": {\n        \"dtype\": \"number\",\n        \"std\": 8087988.429457784,\n        \"min\": 49420.0,\n        \"max\": 45777509.0,\n        \"num_unique_values\": 740,\n        \"samples\": [\n          1732050.0,\n          2392400.0\n        ],\n        \"semantic_type\": \"\",\n        \"description\": \"\"\n      }\n    },\n    {\n      \"column\": \" Estimated Labour Participation Rate (%)\",\n      \"properties\": {\n        \"dtype\": \"number\",\n        \"std\": 8.111094365865874,\n        \"min\": 13.33,\n        \"max\": 72.57,\n        \"num_unique_values\": 626,\n        \"samples\": [\n          47.8,\n          38.2\n        ],\n        \"semantic_type\": \"\",\n        \"description\": \"\"\n      }\n    },\n    {\n      \"column\": \"Area\",\n      \"properties\": {\n        \"dtype\": \"category\",\n        \"num_unique_values\": 2,\n        \"samples\": [\n          \"Urban\",\n          \"Rural\"\n        ],\n        \"semantic_type\": \"\",\n        \"description\": \"\"\n      }\n    }\n  ]\n}"
            }
          },
          "metadata": {},
          "execution_count": 7
        }
      ]
    },
    {
      "cell_type": "code",
      "source": [
        "data.info()"
      ],
      "metadata": {
        "colab": {
          "base_uri": "https://localhost:8080/"
        },
        "id": "y4sY2EHHjokk",
        "outputId": "7aa9f10e-a4fd-4781-ddf1-5a29973d05ff"
      },
      "execution_count": 8,
      "outputs": [
        {
          "output_type": "stream",
          "name": "stdout",
          "text": [
            "<class 'pandas.core.frame.DataFrame'>\n",
            "RangeIndex: 768 entries, 0 to 767\n",
            "Data columns (total 7 columns):\n",
            " #   Column                                    Non-Null Count  Dtype  \n",
            "---  ------                                    --------------  -----  \n",
            " 0   Region                                    740 non-null    object \n",
            " 1    Date                                     740 non-null    object \n",
            " 2    Frequency                                740 non-null    object \n",
            " 3    Estimated Unemployment Rate (%)          740 non-null    float64\n",
            " 4    Estimated Employed                       740 non-null    float64\n",
            " 5    Estimated Labour Participation Rate (%)  740 non-null    float64\n",
            " 6   Area                                      740 non-null    object \n",
            "dtypes: float64(3), object(4)\n",
            "memory usage: 42.1+ KB\n"
          ]
        }
      ]
    },
    {
      "cell_type": "code",
      "source": [
        "data.isnull().sum()"
      ],
      "metadata": {
        "colab": {
          "base_uri": "https://localhost:8080/"
        },
        "id": "4YNOesYvj2xb",
        "outputId": "ecb7f588-9871-4ef4-c1a4-37bba98482ea"
      },
      "execution_count": 9,
      "outputs": [
        {
          "output_type": "execute_result",
          "data": {
            "text/plain": [
              "Region                                      28\n",
              " Date                                       28\n",
              " Frequency                                  28\n",
              " Estimated Unemployment Rate (%)            28\n",
              " Estimated Employed                         28\n",
              " Estimated Labour Participation Rate (%)    28\n",
              "Area                                        28\n",
              "dtype: int64"
            ]
          },
          "metadata": {},
          "execution_count": 9
        }
      ]
    },
    {
      "cell_type": "code",
      "source": [
        "data.columns"
      ],
      "metadata": {
        "colab": {
          "base_uri": "https://localhost:8080/"
        },
        "id": "1M2uVxS-j_HN",
        "outputId": "ba67413f-fcae-476a-e775-97bb7d261abc"
      },
      "execution_count": 10,
      "outputs": [
        {
          "output_type": "execute_result",
          "data": {
            "text/plain": [
              "Index(['Region', ' Date', ' Frequency', ' Estimated Unemployment Rate (%)',\n",
              "       ' Estimated Employed', ' Estimated Labour Participation Rate (%)',\n",
              "       'Area'],\n",
              "      dtype='object')"
            ]
          },
          "metadata": {},
          "execution_count": 10
        }
      ]
    },
    {
      "cell_type": "markdown",
      "source": [
        "Determining the years for which the data has been given"
      ],
      "metadata": {
        "id": "duiPFwopOil_"
      }
    },
    {
      "cell_type": "code",
      "source": [
        "data[' Date'] = pd.to_datetime(data[' Date'], dayfirst=True)\n",
        "data['Year'] = data[' Date'].dt.year\n",
        "data.head(5)\n",
        "startY= data['Year'].min()\n",
        "stopY= data['Year'].max()\n",
        "print(f\"{startY} - {stopY}\")"
      ],
      "metadata": {
        "colab": {
          "base_uri": "https://localhost:8080/"
        },
        "id": "COsMI5UABUQH",
        "outputId": "e213b2a2-f2fb-4e12-b66f-748dffa1c3e6"
      },
      "execution_count": 50,
      "outputs": [
        {
          "output_type": "stream",
          "name": "stdout",
          "text": [
            "2019.0 - 2020.0\n"
          ]
        }
      ]
    },
    {
      "cell_type": "markdown",
      "source": [
        "Types of Area"
      ],
      "metadata": {
        "id": "kV1pVar7OyAI"
      }
    },
    {
      "cell_type": "code",
      "source": [
        "distinct_values = data['Area'].unique()\n",
        "print(distinct_values)"
      ],
      "metadata": {
        "colab": {
          "base_uri": "https://localhost:8080/"
        },
        "id": "NfO0FFh6EMNe",
        "outputId": "261d7d63-87a4-46f2-9ee8-bce4753cb785"
      },
      "execution_count": 17,
      "outputs": [
        {
          "output_type": "stream",
          "name": "stdout",
          "text": [
            "['Rural' nan 'Urban']\n"
          ]
        }
      ]
    },
    {
      "cell_type": "markdown",
      "source": [
        "### Basic Statistics of the given data"
      ],
      "metadata": {
        "id": "9esI5TYRO3Um"
      }
    },
    {
      "cell_type": "code",
      "source": [
        "basic_stat = data[[' Estimated Unemployment Rate (%)', ' Estimated Employed', ' Estimated Labour Participation Rate (%)']]\n",
        "print(round(basic_stat.describe().T, 2))"
      ],
      "metadata": {
        "colab": {
          "base_uri": "https://localhost:8080/"
        },
        "id": "iRbssV5gk7_a",
        "outputId": "869b688b-a691-43a8-af43-52acc079af10"
      },
      "execution_count": 19,
      "outputs": [
        {
          "output_type": "stream",
          "name": "stdout",
          "text": [
            "                                          count        mean         std  \\\n",
            " Estimated Unemployment Rate (%)          740.0       11.79       10.72   \n",
            " Estimated Employed                       740.0  7204460.03  8087988.43   \n",
            " Estimated Labour Participation Rate (%)  740.0       42.63        8.11   \n",
            "\n",
            "                                               min         25%         50%  \\\n",
            " Estimated Unemployment Rate (%)              0.00        4.66        8.35   \n",
            " Estimated Employed                       49420.00  1190404.50  4744178.50   \n",
            " Estimated Labour Participation Rate (%)     13.33       38.06       41.16   \n",
            "\n",
            "                                                  75%          max  \n",
            " Estimated Unemployment Rate (%)                15.89        76.74  \n",
            " Estimated Employed                       11275489.50  45777509.00  \n",
            " Estimated Labour Participation Rate (%)        45.50        72.57  \n"
          ]
        }
      ]
    },
    {
      "cell_type": "markdown",
      "source": [
        "### Information about each state"
      ],
      "metadata": {
        "id": "xBk1c-vHPCj2"
      }
    },
    {
      "cell_type": "code",
      "source": [
        "region_stats = data.groupby(['Region'])[[' Estimated Unemployment Rate (%)', ' Estimated Employed', ' Estimated Labour Participation Rate (%)']].mean()\n",
        "print(round(region_stats, 2))"
      ],
      "metadata": {
        "colab": {
          "base_uri": "https://localhost:8080/"
        },
        "id": "S83HzDxwlPjq",
        "outputId": "b1b75fa4-0674-4528-ec9a-a610e4cdeada"
      },
      "execution_count": 20,
      "outputs": [
        {
          "output_type": "stream",
          "name": "stdout",
          "text": [
            "                   Estimated Unemployment Rate (%)   Estimated Employed  \\\n",
            "Region                                                                    \n",
            "Andhra Pradesh                                7.48           8154093.18   \n",
            "Assam                                         6.43           5354772.15   \n",
            "Bihar                                        18.92          12366189.14   \n",
            "Chandigarh                                   15.99            316831.25   \n",
            "Chhattisgarh                                  9.24           4303498.57   \n",
            "Delhi                                        16.50           2627512.86   \n",
            "Goa                                           9.27            226308.33   \n",
            "Gujarat                                       6.66          11402012.79   \n",
            "Haryana                                      26.28           3557072.46   \n",
            "Himachal Pradesh                             18.54           1059823.71   \n",
            "Jammu & Kashmir                              16.19           1799931.67   \n",
            "Jharkhand                                    20.58           4469240.43   \n",
            "Karnataka                                     6.68          10667119.29   \n",
            "Kerala                                       10.12           4425899.50   \n",
            "Madhya Pradesh                                7.41          11115484.32   \n",
            "Maharashtra                                   7.56          19990195.86   \n",
            "Meghalaya                                     4.80            689736.81   \n",
            "Odisha                                        5.66           6545746.96   \n",
            "Puducherry                                   10.22            212278.08   \n",
            "Punjab                                       12.03           4539362.00   \n",
            "Rajasthan                                    14.06          10041064.75   \n",
            "Sikkim                                        7.25            106880.71   \n",
            "Tamil Nadu                                    9.28          12269546.75   \n",
            "Telangana                                     7.74           7939662.75   \n",
            "Tripura                                      28.35            717002.64   \n",
            "Uttar Pradesh                                12.55          28094832.18   \n",
            "Uttarakhand                                   6.58           1390228.11   \n",
            "West Bengal                                   8.12          17198538.00   \n",
            "\n",
            "                   Estimated Labour Participation Rate (%)  \n",
            "Region                                                      \n",
            "Andhra Pradesh                                       39.38  \n",
            "Assam                                                44.87  \n",
            "Bihar                                                38.15  \n",
            "Chandigarh                                           39.34  \n",
            "Chhattisgarh                                         42.81  \n",
            "Delhi                                                38.93  \n",
            "Goa                                                  39.25  \n",
            "Gujarat                                              46.10  \n",
            "Haryana                                              42.74  \n",
            "Himachal Pradesh                                     44.22  \n",
            "Jammu & Kashmir                                      41.03  \n",
            "Jharkhand                                            41.67  \n",
            "Karnataka                                            41.35  \n",
            "Kerala                                               34.87  \n",
            "Madhya Pradesh                                       38.82  \n",
            "Maharashtra                                          42.30  \n",
            "Meghalaya                                            57.08  \n",
            "Odisha                                               38.93  \n",
            "Puducherry                                           38.99  \n",
            "Punjab                                               41.14  \n",
            "Rajasthan                                            39.97  \n",
            "Sikkim                                               46.07  \n",
            "Tamil Nadu                                           40.87  \n",
            "Telangana                                            53.00  \n",
            "Tripura                                              61.82  \n",
            "Uttar Pradesh                                        39.43  \n",
            "Uttarakhand                                          33.78  \n",
            "West Bengal                                          45.42  \n"
          ]
        }
      ]
    },
    {
      "cell_type": "markdown",
      "source": [
        "### Average unemployment rate in each state"
      ],
      "metadata": {
        "id": "TAAPeTLZPI9W"
      }
    },
    {
      "cell_type": "code",
      "source": [
        "import plotly.express as px\n",
        "import matplotlib.pyplot as plt\n",
        "import seaborn as sns\n",
        "plot_unemp = data[[' Estimated Unemployment Rate (%)','Region']]\n",
        "data_unemployed = plot_unemp.groupby('Region').mean().reset_index()\n",
        "\n",
        "data_unemployed = data_unemployed.sort_values(' Estimated Unemployment Rate (%)')\n",
        "\n",
        "fig = px.bar(data_unemployed, x='Region',y=' Estimated Unemployment Rate (%)',color = 'Region',title = 'Average unemployment rate in each state', template='seaborn')\n",
        "fig.show()"
      ],
      "metadata": {
        "colab": {
          "base_uri": "https://localhost:8080/",
          "height": 542
        },
        "id": "qUzxyH5mmcol",
        "outputId": "1ed194ae-9b4d-4535-d788-f486f966de62"
      },
      "execution_count": 21,
      "outputs": [
        {
          "output_type": "display_data",
          "data": {
            "text/html": [
              "<html>\n",
              "<head><meta charset=\"utf-8\" /></head>\n",
              "<body>\n",
              "    <div>            <script src=\"https://cdnjs.cloudflare.com/ajax/libs/mathjax/2.7.5/MathJax.js?config=TeX-AMS-MML_SVG\"></script><script type=\"text/javascript\">if (window.MathJax && window.MathJax.Hub && window.MathJax.Hub.Config) {window.MathJax.Hub.Config({SVG: {font: \"STIX-Web\"}});}</script>                <script type=\"text/javascript\">window.PlotlyConfig = {MathJaxConfig: 'local'};</script>\n",
              "        <script charset=\"utf-8\" src=\"https://cdn.plot.ly/plotly-2.24.1.min.js\"></script>                <div id=\"0f43bbb6-9e35-4bce-a6eb-bd22dfdccceb\" class=\"plotly-graph-div\" style=\"height:525px; width:100%;\"></div>            <script type=\"text/javascript\">                                    window.PLOTLYENV=window.PLOTLYENV || {};                                    if (document.getElementById(\"0f43bbb6-9e35-4bce-a6eb-bd22dfdccceb\")) {                    Plotly.newPlot(                        \"0f43bbb6-9e35-4bce-a6eb-bd22dfdccceb\",                        [{\"alignmentgroup\":\"True\",\"hovertemplate\":\"Region=%{x}\\u003cbr\\u003e Estimated Unemployment Rate (%)=%{y}\\u003cextra\\u003e\\u003c\\u002fextra\\u003e\",\"legendgroup\":\"Meghalaya\",\"marker\":{\"color\":\"rgb(76,114,176)\",\"pattern\":{\"shape\":\"\"}},\"name\":\"Meghalaya\",\"offsetgroup\":\"Meghalaya\",\"orientation\":\"v\",\"showlegend\":true,\"textposition\":\"auto\",\"x\":[\"Meghalaya\"],\"xaxis\":\"x\",\"y\":[4.7988888888888885],\"yaxis\":\"y\",\"type\":\"bar\"},{\"alignmentgroup\":\"True\",\"hovertemplate\":\"Region=%{x}\\u003cbr\\u003e Estimated Unemployment Rate (%)=%{y}\\u003cextra\\u003e\\u003c\\u002fextra\\u003e\",\"legendgroup\":\"Odisha\",\"marker\":{\"color\":\"rgb(221,132,82)\",\"pattern\":{\"shape\":\"\"}},\"name\":\"Odisha\",\"offsetgroup\":\"Odisha\",\"orientation\":\"v\",\"showlegend\":true,\"textposition\":\"auto\",\"x\":[\"Odisha\"],\"xaxis\":\"x\",\"y\":[5.657857142857142],\"yaxis\":\"y\",\"type\":\"bar\"},{\"alignmentgroup\":\"True\",\"hovertemplate\":\"Region=%{x}\\u003cbr\\u003e Estimated Unemployment Rate (%)=%{y}\\u003cextra\\u003e\\u003c\\u002fextra\\u003e\",\"legendgroup\":\"Assam\",\"marker\":{\"color\":\"rgb(85,168,104)\",\"pattern\":{\"shape\":\"\"}},\"name\":\"Assam\",\"offsetgroup\":\"Assam\",\"orientation\":\"v\",\"showlegend\":true,\"textposition\":\"auto\",\"x\":[\"Assam\"],\"xaxis\":\"x\",\"y\":[6.428076923076923],\"yaxis\":\"y\",\"type\":\"bar\"},{\"alignmentgroup\":\"True\",\"hovertemplate\":\"Region=%{x}\\u003cbr\\u003e Estimated Unemployment Rate (%)=%{y}\\u003cextra\\u003e\\u003c\\u002fextra\\u003e\",\"legendgroup\":\"Uttarakhand\",\"marker\":{\"color\":\"rgb(196,78,82)\",\"pattern\":{\"shape\":\"\"}},\"name\":\"Uttarakhand\",\"offsetgroup\":\"Uttarakhand\",\"orientation\":\"v\",\"showlegend\":true,\"textposition\":\"auto\",\"x\":[\"Uttarakhand\"],\"xaxis\":\"x\",\"y\":[6.582962962962963],\"yaxis\":\"y\",\"type\":\"bar\"},{\"alignmentgroup\":\"True\",\"hovertemplate\":\"Region=%{x}\\u003cbr\\u003e Estimated Unemployment Rate (%)=%{y}\\u003cextra\\u003e\\u003c\\u002fextra\\u003e\",\"legendgroup\":\"Gujarat\",\"marker\":{\"color\":\"rgb(129,114,179)\",\"pattern\":{\"shape\":\"\"}},\"name\":\"Gujarat\",\"offsetgroup\":\"Gujarat\",\"orientation\":\"v\",\"showlegend\":true,\"textposition\":\"auto\",\"x\":[\"Gujarat\"],\"xaxis\":\"x\",\"y\":[6.663928571428571],\"yaxis\":\"y\",\"type\":\"bar\"},{\"alignmentgroup\":\"True\",\"hovertemplate\":\"Region=%{x}\\u003cbr\\u003e Estimated Unemployment Rate (%)=%{y}\\u003cextra\\u003e\\u003c\\u002fextra\\u003e\",\"legendgroup\":\"Karnataka\",\"marker\":{\"color\":\"rgb(147,120,96)\",\"pattern\":{\"shape\":\"\"}},\"name\":\"Karnataka\",\"offsetgroup\":\"Karnataka\",\"orientation\":\"v\",\"showlegend\":true,\"textposition\":\"auto\",\"x\":[\"Karnataka\"],\"xaxis\":\"x\",\"y\":[6.676071428571428],\"yaxis\":\"y\",\"type\":\"bar\"},{\"alignmentgroup\":\"True\",\"hovertemplate\":\"Region=%{x}\\u003cbr\\u003e Estimated Unemployment Rate (%)=%{y}\\u003cextra\\u003e\\u003c\\u002fextra\\u003e\",\"legendgroup\":\"Sikkim\",\"marker\":{\"color\":\"rgb(218,139,195)\",\"pattern\":{\"shape\":\"\"}},\"name\":\"Sikkim\",\"offsetgroup\":\"Sikkim\",\"orientation\":\"v\",\"showlegend\":true,\"textposition\":\"auto\",\"x\":[\"Sikkim\"],\"xaxis\":\"x\",\"y\":[7.249411764705882],\"yaxis\":\"y\",\"type\":\"bar\"},{\"alignmentgroup\":\"True\",\"hovertemplate\":\"Region=%{x}\\u003cbr\\u003e Estimated Unemployment Rate (%)=%{y}\\u003cextra\\u003e\\u003c\\u002fextra\\u003e\",\"legendgroup\":\"Madhya Pradesh\",\"marker\":{\"color\":\"rgb(140,140,140)\",\"pattern\":{\"shape\":\"\"}},\"name\":\"Madhya Pradesh\",\"offsetgroup\":\"Madhya Pradesh\",\"orientation\":\"v\",\"showlegend\":true,\"textposition\":\"auto\",\"x\":[\"Madhya Pradesh\"],\"xaxis\":\"x\",\"y\":[7.406428571428571],\"yaxis\":\"y\",\"type\":\"bar\"},{\"alignmentgroup\":\"True\",\"hovertemplate\":\"Region=%{x}\\u003cbr\\u003e Estimated Unemployment Rate (%)=%{y}\\u003cextra\\u003e\\u003c\\u002fextra\\u003e\",\"legendgroup\":\"Andhra Pradesh\",\"marker\":{\"color\":\"rgb(204,185,116)\",\"pattern\":{\"shape\":\"\"}},\"name\":\"Andhra Pradesh\",\"offsetgroup\":\"Andhra Pradesh\",\"orientation\":\"v\",\"showlegend\":true,\"textposition\":\"auto\",\"x\":[\"Andhra Pradesh\"],\"xaxis\":\"x\",\"y\":[7.477142857142857],\"yaxis\":\"y\",\"type\":\"bar\"},{\"alignmentgroup\":\"True\",\"hovertemplate\":\"Region=%{x}\\u003cbr\\u003e Estimated Unemployment Rate (%)=%{y}\\u003cextra\\u003e\\u003c\\u002fextra\\u003e\",\"legendgroup\":\"Maharashtra\",\"marker\":{\"color\":\"rgb(100,181,205)\",\"pattern\":{\"shape\":\"\"}},\"name\":\"Maharashtra\",\"offsetgroup\":\"Maharashtra\",\"orientation\":\"v\",\"showlegend\":true,\"textposition\":\"auto\",\"x\":[\"Maharashtra\"],\"xaxis\":\"x\",\"y\":[7.5575],\"yaxis\":\"y\",\"type\":\"bar\"},{\"alignmentgroup\":\"True\",\"hovertemplate\":\"Region=%{x}\\u003cbr\\u003e Estimated Unemployment Rate (%)=%{y}\\u003cextra\\u003e\\u003c\\u002fextra\\u003e\",\"legendgroup\":\"Telangana\",\"marker\":{\"color\":\"rgb(76,114,176)\",\"pattern\":{\"shape\":\"\"}},\"name\":\"Telangana\",\"offsetgroup\":\"Telangana\",\"orientation\":\"v\",\"showlegend\":true,\"textposition\":\"auto\",\"x\":[\"Telangana\"],\"xaxis\":\"x\",\"y\":[7.737857142857143],\"yaxis\":\"y\",\"type\":\"bar\"},{\"alignmentgroup\":\"True\",\"hovertemplate\":\"Region=%{x}\\u003cbr\\u003e Estimated Unemployment Rate (%)=%{y}\\u003cextra\\u003e\\u003c\\u002fextra\\u003e\",\"legendgroup\":\"West Bengal\",\"marker\":{\"color\":\"rgb(221,132,82)\",\"pattern\":{\"shape\":\"\"}},\"name\":\"West Bengal\",\"offsetgroup\":\"West Bengal\",\"orientation\":\"v\",\"showlegend\":true,\"textposition\":\"auto\",\"x\":[\"West Bengal\"],\"xaxis\":\"x\",\"y\":[8.124642857142858],\"yaxis\":\"y\",\"type\":\"bar\"},{\"alignmentgroup\":\"True\",\"hovertemplate\":\"Region=%{x}\\u003cbr\\u003e Estimated Unemployment Rate (%)=%{y}\\u003cextra\\u003e\\u003c\\u002fextra\\u003e\",\"legendgroup\":\"Chhattisgarh\",\"marker\":{\"color\":\"rgb(85,168,104)\",\"pattern\":{\"shape\":\"\"}},\"name\":\"Chhattisgarh\",\"offsetgroup\":\"Chhattisgarh\",\"orientation\":\"v\",\"showlegend\":true,\"textposition\":\"auto\",\"x\":[\"Chhattisgarh\"],\"xaxis\":\"x\",\"y\":[9.240357142857144],\"yaxis\":\"y\",\"type\":\"bar\"},{\"alignmentgroup\":\"True\",\"hovertemplate\":\"Region=%{x}\\u003cbr\\u003e Estimated Unemployment Rate (%)=%{y}\\u003cextra\\u003e\\u003c\\u002fextra\\u003e\",\"legendgroup\":\"Goa\",\"marker\":{\"color\":\"rgb(196,78,82)\",\"pattern\":{\"shape\":\"\"}},\"name\":\"Goa\",\"offsetgroup\":\"Goa\",\"orientation\":\"v\",\"showlegend\":true,\"textposition\":\"auto\",\"x\":[\"Goa\"],\"xaxis\":\"x\",\"y\":[9.274166666666666],\"yaxis\":\"y\",\"type\":\"bar\"},{\"alignmentgroup\":\"True\",\"hovertemplate\":\"Region=%{x}\\u003cbr\\u003e Estimated Unemployment Rate (%)=%{y}\\u003cextra\\u003e\\u003c\\u002fextra\\u003e\",\"legendgroup\":\"Tamil Nadu\",\"marker\":{\"color\":\"rgb(129,114,179)\",\"pattern\":{\"shape\":\"\"}},\"name\":\"Tamil Nadu\",\"offsetgroup\":\"Tamil Nadu\",\"orientation\":\"v\",\"showlegend\":true,\"textposition\":\"auto\",\"x\":[\"Tamil Nadu\"],\"xaxis\":\"x\",\"y\":[9.284285714285714],\"yaxis\":\"y\",\"type\":\"bar\"},{\"alignmentgroup\":\"True\",\"hovertemplate\":\"Region=%{x}\\u003cbr\\u003e Estimated Unemployment Rate (%)=%{y}\\u003cextra\\u003e\\u003c\\u002fextra\\u003e\",\"legendgroup\":\"Kerala\",\"marker\":{\"color\":\"rgb(147,120,96)\",\"pattern\":{\"shape\":\"\"}},\"name\":\"Kerala\",\"offsetgroup\":\"Kerala\",\"orientation\":\"v\",\"showlegend\":true,\"textposition\":\"auto\",\"x\":[\"Kerala\"],\"xaxis\":\"x\",\"y\":[10.12392857142857],\"yaxis\":\"y\",\"type\":\"bar\"},{\"alignmentgroup\":\"True\",\"hovertemplate\":\"Region=%{x}\\u003cbr\\u003e Estimated Unemployment Rate (%)=%{y}\\u003cextra\\u003e\\u003c\\u002fextra\\u003e\",\"legendgroup\":\"Puducherry\",\"marker\":{\"color\":\"rgb(218,139,195)\",\"pattern\":{\"shape\":\"\"}},\"name\":\"Puducherry\",\"offsetgroup\":\"Puducherry\",\"orientation\":\"v\",\"showlegend\":true,\"textposition\":\"auto\",\"x\":[\"Puducherry\"],\"xaxis\":\"x\",\"y\":[10.215000000000002],\"yaxis\":\"y\",\"type\":\"bar\"},{\"alignmentgroup\":\"True\",\"hovertemplate\":\"Region=%{x}\\u003cbr\\u003e Estimated Unemployment Rate (%)=%{y}\\u003cextra\\u003e\\u003c\\u002fextra\\u003e\",\"legendgroup\":\"Punjab\",\"marker\":{\"color\":\"rgb(140,140,140)\",\"pattern\":{\"shape\":\"\"}},\"name\":\"Punjab\",\"offsetgroup\":\"Punjab\",\"orientation\":\"v\",\"showlegend\":true,\"textposition\":\"auto\",\"x\":[\"Punjab\"],\"xaxis\":\"x\",\"y\":[12.031071428571428],\"yaxis\":\"y\",\"type\":\"bar\"},{\"alignmentgroup\":\"True\",\"hovertemplate\":\"Region=%{x}\\u003cbr\\u003e Estimated Unemployment Rate (%)=%{y}\\u003cextra\\u003e\\u003c\\u002fextra\\u003e\",\"legendgroup\":\"Uttar Pradesh\",\"marker\":{\"color\":\"rgb(204,185,116)\",\"pattern\":{\"shape\":\"\"}},\"name\":\"Uttar Pradesh\",\"offsetgroup\":\"Uttar Pradesh\",\"orientation\":\"v\",\"showlegend\":true,\"textposition\":\"auto\",\"x\":[\"Uttar Pradesh\"],\"xaxis\":\"x\",\"y\":[12.551428571428572],\"yaxis\":\"y\",\"type\":\"bar\"},{\"alignmentgroup\":\"True\",\"hovertemplate\":\"Region=%{x}\\u003cbr\\u003e Estimated Unemployment Rate (%)=%{y}\\u003cextra\\u003e\\u003c\\u002fextra\\u003e\",\"legendgroup\":\"Rajasthan\",\"marker\":{\"color\":\"rgb(100,181,205)\",\"pattern\":{\"shape\":\"\"}},\"name\":\"Rajasthan\",\"offsetgroup\":\"Rajasthan\",\"orientation\":\"v\",\"showlegend\":true,\"textposition\":\"auto\",\"x\":[\"Rajasthan\"],\"xaxis\":\"x\",\"y\":[14.058214285714286],\"yaxis\":\"y\",\"type\":\"bar\"},{\"alignmentgroup\":\"True\",\"hovertemplate\":\"Region=%{x}\\u003cbr\\u003e Estimated Unemployment Rate (%)=%{y}\\u003cextra\\u003e\\u003c\\u002fextra\\u003e\",\"legendgroup\":\"Chandigarh\",\"marker\":{\"color\":\"rgb(76,114,176)\",\"pattern\":{\"shape\":\"\"}},\"name\":\"Chandigarh\",\"offsetgroup\":\"Chandigarh\",\"orientation\":\"v\",\"showlegend\":true,\"textposition\":\"auto\",\"x\":[\"Chandigarh\"],\"xaxis\":\"x\",\"y\":[15.991666666666667],\"yaxis\":\"y\",\"type\":\"bar\"},{\"alignmentgroup\":\"True\",\"hovertemplate\":\"Region=%{x}\\u003cbr\\u003e Estimated Unemployment Rate (%)=%{y}\\u003cextra\\u003e\\u003c\\u002fextra\\u003e\",\"legendgroup\":\"Jammu & Kashmir\",\"marker\":{\"color\":\"rgb(221,132,82)\",\"pattern\":{\"shape\":\"\"}},\"name\":\"Jammu & Kashmir\",\"offsetgroup\":\"Jammu & Kashmir\",\"orientation\":\"v\",\"showlegend\":true,\"textposition\":\"auto\",\"x\":[\"Jammu & Kashmir\"],\"xaxis\":\"x\",\"y\":[16.18857142857143],\"yaxis\":\"y\",\"type\":\"bar\"},{\"alignmentgroup\":\"True\",\"hovertemplate\":\"Region=%{x}\\u003cbr\\u003e Estimated Unemployment Rate (%)=%{y}\\u003cextra\\u003e\\u003c\\u002fextra\\u003e\",\"legendgroup\":\"Delhi\",\"marker\":{\"color\":\"rgb(85,168,104)\",\"pattern\":{\"shape\":\"\"}},\"name\":\"Delhi\",\"offsetgroup\":\"Delhi\",\"orientation\":\"v\",\"showlegend\":true,\"textposition\":\"auto\",\"x\":[\"Delhi\"],\"xaxis\":\"x\",\"y\":[16.49535714285714],\"yaxis\":\"y\",\"type\":\"bar\"},{\"alignmentgroup\":\"True\",\"hovertemplate\":\"Region=%{x}\\u003cbr\\u003e Estimated Unemployment Rate (%)=%{y}\\u003cextra\\u003e\\u003c\\u002fextra\\u003e\",\"legendgroup\":\"Himachal Pradesh\",\"marker\":{\"color\":\"rgb(196,78,82)\",\"pattern\":{\"shape\":\"\"}},\"name\":\"Himachal Pradesh\",\"offsetgroup\":\"Himachal Pradesh\",\"orientation\":\"v\",\"showlegend\":true,\"textposition\":\"auto\",\"x\":[\"Himachal Pradesh\"],\"xaxis\":\"x\",\"y\":[18.540357142857143],\"yaxis\":\"y\",\"type\":\"bar\"},{\"alignmentgroup\":\"True\",\"hovertemplate\":\"Region=%{x}\\u003cbr\\u003e Estimated Unemployment Rate (%)=%{y}\\u003cextra\\u003e\\u003c\\u002fextra\\u003e\",\"legendgroup\":\"Bihar\",\"marker\":{\"color\":\"rgb(129,114,179)\",\"pattern\":{\"shape\":\"\"}},\"name\":\"Bihar\",\"offsetgroup\":\"Bihar\",\"orientation\":\"v\",\"showlegend\":true,\"textposition\":\"auto\",\"x\":[\"Bihar\"],\"xaxis\":\"x\",\"y\":[18.91821428571429],\"yaxis\":\"y\",\"type\":\"bar\"},{\"alignmentgroup\":\"True\",\"hovertemplate\":\"Region=%{x}\\u003cbr\\u003e Estimated Unemployment Rate (%)=%{y}\\u003cextra\\u003e\\u003c\\u002fextra\\u003e\",\"legendgroup\":\"Jharkhand\",\"marker\":{\"color\":\"rgb(147,120,96)\",\"pattern\":{\"shape\":\"\"}},\"name\":\"Jharkhand\",\"offsetgroup\":\"Jharkhand\",\"orientation\":\"v\",\"showlegend\":true,\"textposition\":\"auto\",\"x\":[\"Jharkhand\"],\"xaxis\":\"x\",\"y\":[20.585],\"yaxis\":\"y\",\"type\":\"bar\"},{\"alignmentgroup\":\"True\",\"hovertemplate\":\"Region=%{x}\\u003cbr\\u003e Estimated Unemployment Rate (%)=%{y}\\u003cextra\\u003e\\u003c\\u002fextra\\u003e\",\"legendgroup\":\"Haryana\",\"marker\":{\"color\":\"rgb(218,139,195)\",\"pattern\":{\"shape\":\"\"}},\"name\":\"Haryana\",\"offsetgroup\":\"Haryana\",\"orientation\":\"v\",\"showlegend\":true,\"textposition\":\"auto\",\"x\":[\"Haryana\"],\"xaxis\":\"x\",\"y\":[26.283214285714283],\"yaxis\":\"y\",\"type\":\"bar\"},{\"alignmentgroup\":\"True\",\"hovertemplate\":\"Region=%{x}\\u003cbr\\u003e Estimated Unemployment Rate (%)=%{y}\\u003cextra\\u003e\\u003c\\u002fextra\\u003e\",\"legendgroup\":\"Tripura\",\"marker\":{\"color\":\"rgb(140,140,140)\",\"pattern\":{\"shape\":\"\"}},\"name\":\"Tripura\",\"offsetgroup\":\"Tripura\",\"orientation\":\"v\",\"showlegend\":true,\"textposition\":\"auto\",\"x\":[\"Tripura\"],\"xaxis\":\"x\",\"y\":[28.350357142857142],\"yaxis\":\"y\",\"type\":\"bar\"}],                        {\"template\":{\"data\":{\"barpolar\":[{\"marker\":{\"line\":{\"color\":\"rgb(234,234,242)\",\"width\":0.5},\"pattern\":{\"fillmode\":\"overlay\",\"size\":10,\"solidity\":0.2}},\"type\":\"barpolar\"}],\"bar\":[{\"error_x\":{\"color\":\"rgb(36,36,36)\"},\"error_y\":{\"color\":\"rgb(36,36,36)\"},\"marker\":{\"line\":{\"color\":\"rgb(234,234,242)\",\"width\":0.5},\"pattern\":{\"fillmode\":\"overlay\",\"size\":10,\"solidity\":0.2}},\"type\":\"bar\"}],\"carpet\":[{\"aaxis\":{\"endlinecolor\":\"rgb(36,36,36)\",\"gridcolor\":\"white\",\"linecolor\":\"white\",\"minorgridcolor\":\"white\",\"startlinecolor\":\"rgb(36,36,36)\"},\"baxis\":{\"endlinecolor\":\"rgb(36,36,36)\",\"gridcolor\":\"white\",\"linecolor\":\"white\",\"minorgridcolor\":\"white\",\"startlinecolor\":\"rgb(36,36,36)\"},\"type\":\"carpet\"}],\"choropleth\":[{\"colorbar\":{\"outlinewidth\":0,\"tickcolor\":\"rgb(36,36,36)\",\"ticklen\":8,\"ticks\":\"outside\",\"tickwidth\":2},\"type\":\"choropleth\"}],\"contourcarpet\":[{\"colorbar\":{\"outlinewidth\":0,\"tickcolor\":\"rgb(36,36,36)\",\"ticklen\":8,\"ticks\":\"outside\",\"tickwidth\":2},\"type\":\"contourcarpet\"}],\"contour\":[{\"colorbar\":{\"outlinewidth\":0,\"tickcolor\":\"rgb(36,36,36)\",\"ticklen\":8,\"ticks\":\"outside\",\"tickwidth\":2},\"colorscale\":[[0.0,\"rgb(2,4,25)\"],[0.06274509803921569,\"rgb(24,15,41)\"],[0.12549019607843137,\"rgb(47,23,57)\"],[0.18823529411764706,\"rgb(71,28,72)\"],[0.25098039215686274,\"rgb(97,30,82)\"],[0.3137254901960784,\"rgb(123,30,89)\"],[0.3764705882352941,\"rgb(150,27,91)\"],[0.4392156862745098,\"rgb(177,22,88)\"],[0.5019607843137255,\"rgb(203,26,79)\"],[0.5647058823529412,\"rgb(223,47,67)\"],[0.6274509803921569,\"rgb(236,76,61)\"],[0.6901960784313725,\"rgb(242,107,73)\"],[0.7529411764705882,\"rgb(244,135,95)\"],[0.8156862745098039,\"rgb(245,162,122)\"],[0.8784313725490196,\"rgb(246,188,153)\"],[0.9411764705882353,\"rgb(247,212,187)\"],[1.0,\"rgb(250,234,220)\"]],\"type\":\"contour\"}],\"heatmapgl\":[{\"colorbar\":{\"outlinewidth\":0,\"tickcolor\":\"rgb(36,36,36)\",\"ticklen\":8,\"ticks\":\"outside\",\"tickwidth\":2},\"colorscale\":[[0.0,\"rgb(2,4,25)\"],[0.06274509803921569,\"rgb(24,15,41)\"],[0.12549019607843137,\"rgb(47,23,57)\"],[0.18823529411764706,\"rgb(71,28,72)\"],[0.25098039215686274,\"rgb(97,30,82)\"],[0.3137254901960784,\"rgb(123,30,89)\"],[0.3764705882352941,\"rgb(150,27,91)\"],[0.4392156862745098,\"rgb(177,22,88)\"],[0.5019607843137255,\"rgb(203,26,79)\"],[0.5647058823529412,\"rgb(223,47,67)\"],[0.6274509803921569,\"rgb(236,76,61)\"],[0.6901960784313725,\"rgb(242,107,73)\"],[0.7529411764705882,\"rgb(244,135,95)\"],[0.8156862745098039,\"rgb(245,162,122)\"],[0.8784313725490196,\"rgb(246,188,153)\"],[0.9411764705882353,\"rgb(247,212,187)\"],[1.0,\"rgb(250,234,220)\"]],\"type\":\"heatmapgl\"}],\"heatmap\":[{\"colorbar\":{\"outlinewidth\":0,\"tickcolor\":\"rgb(36,36,36)\",\"ticklen\":8,\"ticks\":\"outside\",\"tickwidth\":2},\"colorscale\":[[0.0,\"rgb(2,4,25)\"],[0.06274509803921569,\"rgb(24,15,41)\"],[0.12549019607843137,\"rgb(47,23,57)\"],[0.18823529411764706,\"rgb(71,28,72)\"],[0.25098039215686274,\"rgb(97,30,82)\"],[0.3137254901960784,\"rgb(123,30,89)\"],[0.3764705882352941,\"rgb(150,27,91)\"],[0.4392156862745098,\"rgb(177,22,88)\"],[0.5019607843137255,\"rgb(203,26,79)\"],[0.5647058823529412,\"rgb(223,47,67)\"],[0.6274509803921569,\"rgb(236,76,61)\"],[0.6901960784313725,\"rgb(242,107,73)\"],[0.7529411764705882,\"rgb(244,135,95)\"],[0.8156862745098039,\"rgb(245,162,122)\"],[0.8784313725490196,\"rgb(246,188,153)\"],[0.9411764705882353,\"rgb(247,212,187)\"],[1.0,\"rgb(250,234,220)\"]],\"type\":\"heatmap\"}],\"histogram2dcontour\":[{\"colorbar\":{\"outlinewidth\":0,\"tickcolor\":\"rgb(36,36,36)\",\"ticklen\":8,\"ticks\":\"outside\",\"tickwidth\":2},\"colorscale\":[[0.0,\"rgb(2,4,25)\"],[0.06274509803921569,\"rgb(24,15,41)\"],[0.12549019607843137,\"rgb(47,23,57)\"],[0.18823529411764706,\"rgb(71,28,72)\"],[0.25098039215686274,\"rgb(97,30,82)\"],[0.3137254901960784,\"rgb(123,30,89)\"],[0.3764705882352941,\"rgb(150,27,91)\"],[0.4392156862745098,\"rgb(177,22,88)\"],[0.5019607843137255,\"rgb(203,26,79)\"],[0.5647058823529412,\"rgb(223,47,67)\"],[0.6274509803921569,\"rgb(236,76,61)\"],[0.6901960784313725,\"rgb(242,107,73)\"],[0.7529411764705882,\"rgb(244,135,95)\"],[0.8156862745098039,\"rgb(245,162,122)\"],[0.8784313725490196,\"rgb(246,188,153)\"],[0.9411764705882353,\"rgb(247,212,187)\"],[1.0,\"rgb(250,234,220)\"]],\"type\":\"histogram2dcontour\"}],\"histogram2d\":[{\"colorbar\":{\"outlinewidth\":0,\"tickcolor\":\"rgb(36,36,36)\",\"ticklen\":8,\"ticks\":\"outside\",\"tickwidth\":2},\"colorscale\":[[0.0,\"rgb(2,4,25)\"],[0.06274509803921569,\"rgb(24,15,41)\"],[0.12549019607843137,\"rgb(47,23,57)\"],[0.18823529411764706,\"rgb(71,28,72)\"],[0.25098039215686274,\"rgb(97,30,82)\"],[0.3137254901960784,\"rgb(123,30,89)\"],[0.3764705882352941,\"rgb(150,27,91)\"],[0.4392156862745098,\"rgb(177,22,88)\"],[0.5019607843137255,\"rgb(203,26,79)\"],[0.5647058823529412,\"rgb(223,47,67)\"],[0.6274509803921569,\"rgb(236,76,61)\"],[0.6901960784313725,\"rgb(242,107,73)\"],[0.7529411764705882,\"rgb(244,135,95)\"],[0.8156862745098039,\"rgb(245,162,122)\"],[0.8784313725490196,\"rgb(246,188,153)\"],[0.9411764705882353,\"rgb(247,212,187)\"],[1.0,\"rgb(250,234,220)\"]],\"type\":\"histogram2d\"}],\"histogram\":[{\"marker\":{\"pattern\":{\"fillmode\":\"overlay\",\"size\":10,\"solidity\":0.2}},\"type\":\"histogram\"}],\"mesh3d\":[{\"colorbar\":{\"outlinewidth\":0,\"tickcolor\":\"rgb(36,36,36)\",\"ticklen\":8,\"ticks\":\"outside\",\"tickwidth\":2},\"type\":\"mesh3d\"}],\"parcoords\":[{\"line\":{\"colorbar\":{\"outlinewidth\":0,\"tickcolor\":\"rgb(36,36,36)\",\"ticklen\":8,\"ticks\":\"outside\",\"tickwidth\":2}},\"type\":\"parcoords\"}],\"pie\":[{\"automargin\":true,\"type\":\"pie\"}],\"scatter3d\":[{\"line\":{\"colorbar\":{\"outlinewidth\":0,\"tickcolor\":\"rgb(36,36,36)\",\"ticklen\":8,\"ticks\":\"outside\",\"tickwidth\":2}},\"marker\":{\"colorbar\":{\"outlinewidth\":0,\"tickcolor\":\"rgb(36,36,36)\",\"ticklen\":8,\"ticks\":\"outside\",\"tickwidth\":2}},\"type\":\"scatter3d\"}],\"scattercarpet\":[{\"marker\":{\"colorbar\":{\"outlinewidth\":0,\"tickcolor\":\"rgb(36,36,36)\",\"ticklen\":8,\"ticks\":\"outside\",\"tickwidth\":2}},\"type\":\"scattercarpet\"}],\"scattergeo\":[{\"marker\":{\"colorbar\":{\"outlinewidth\":0,\"tickcolor\":\"rgb(36,36,36)\",\"ticklen\":8,\"ticks\":\"outside\",\"tickwidth\":2}},\"type\":\"scattergeo\"}],\"scattergl\":[{\"marker\":{\"colorbar\":{\"outlinewidth\":0,\"tickcolor\":\"rgb(36,36,36)\",\"ticklen\":8,\"ticks\":\"outside\",\"tickwidth\":2}},\"type\":\"scattergl\"}],\"scattermapbox\":[{\"marker\":{\"colorbar\":{\"outlinewidth\":0,\"tickcolor\":\"rgb(36,36,36)\",\"ticklen\":8,\"ticks\":\"outside\",\"tickwidth\":2}},\"type\":\"scattermapbox\"}],\"scatterpolargl\":[{\"marker\":{\"colorbar\":{\"outlinewidth\":0,\"tickcolor\":\"rgb(36,36,36)\",\"ticklen\":8,\"ticks\":\"outside\",\"tickwidth\":2}},\"type\":\"scatterpolargl\"}],\"scatterpolar\":[{\"marker\":{\"colorbar\":{\"outlinewidth\":0,\"tickcolor\":\"rgb(36,36,36)\",\"ticklen\":8,\"ticks\":\"outside\",\"tickwidth\":2}},\"type\":\"scatterpolar\"}],\"scatter\":[{\"fillpattern\":{\"fillmode\":\"overlay\",\"size\":10,\"solidity\":0.2},\"type\":\"scatter\"}],\"scatterternary\":[{\"marker\":{\"colorbar\":{\"outlinewidth\":0,\"tickcolor\":\"rgb(36,36,36)\",\"ticklen\":8,\"ticks\":\"outside\",\"tickwidth\":2}},\"type\":\"scatterternary\"}],\"surface\":[{\"colorbar\":{\"outlinewidth\":0,\"tickcolor\":\"rgb(36,36,36)\",\"ticklen\":8,\"ticks\":\"outside\",\"tickwidth\":2},\"colorscale\":[[0.0,\"rgb(2,4,25)\"],[0.06274509803921569,\"rgb(24,15,41)\"],[0.12549019607843137,\"rgb(47,23,57)\"],[0.18823529411764706,\"rgb(71,28,72)\"],[0.25098039215686274,\"rgb(97,30,82)\"],[0.3137254901960784,\"rgb(123,30,89)\"],[0.3764705882352941,\"rgb(150,27,91)\"],[0.4392156862745098,\"rgb(177,22,88)\"],[0.5019607843137255,\"rgb(203,26,79)\"],[0.5647058823529412,\"rgb(223,47,67)\"],[0.6274509803921569,\"rgb(236,76,61)\"],[0.6901960784313725,\"rgb(242,107,73)\"],[0.7529411764705882,\"rgb(244,135,95)\"],[0.8156862745098039,\"rgb(245,162,122)\"],[0.8784313725490196,\"rgb(246,188,153)\"],[0.9411764705882353,\"rgb(247,212,187)\"],[1.0,\"rgb(250,234,220)\"]],\"type\":\"surface\"}],\"table\":[{\"cells\":{\"fill\":{\"color\":\"rgb(231,231,240)\"},\"line\":{\"color\":\"white\"}},\"header\":{\"fill\":{\"color\":\"rgb(183,183,191)\"},\"line\":{\"color\":\"white\"}},\"type\":\"table\"}]},\"layout\":{\"annotationdefaults\":{\"arrowcolor\":\"rgb(67,103,167)\"},\"autotypenumbers\":\"strict\",\"coloraxis\":{\"colorbar\":{\"outlinewidth\":0,\"tickcolor\":\"rgb(36,36,36)\",\"ticklen\":8,\"ticks\":\"outside\",\"tickwidth\":2}},\"colorscale\":{\"sequential\":[[0.0,\"rgb(2,4,25)\"],[0.06274509803921569,\"rgb(24,15,41)\"],[0.12549019607843137,\"rgb(47,23,57)\"],[0.18823529411764706,\"rgb(71,28,72)\"],[0.25098039215686274,\"rgb(97,30,82)\"],[0.3137254901960784,\"rgb(123,30,89)\"],[0.3764705882352941,\"rgb(150,27,91)\"],[0.4392156862745098,\"rgb(177,22,88)\"],[0.5019607843137255,\"rgb(203,26,79)\"],[0.5647058823529412,\"rgb(223,47,67)\"],[0.6274509803921569,\"rgb(236,76,61)\"],[0.6901960784313725,\"rgb(242,107,73)\"],[0.7529411764705882,\"rgb(244,135,95)\"],[0.8156862745098039,\"rgb(245,162,122)\"],[0.8784313725490196,\"rgb(246,188,153)\"],[0.9411764705882353,\"rgb(247,212,187)\"],[1.0,\"rgb(250,234,220)\"]],\"sequentialminus\":[[0.0,\"rgb(2,4,25)\"],[0.06274509803921569,\"rgb(24,15,41)\"],[0.12549019607843137,\"rgb(47,23,57)\"],[0.18823529411764706,\"rgb(71,28,72)\"],[0.25098039215686274,\"rgb(97,30,82)\"],[0.3137254901960784,\"rgb(123,30,89)\"],[0.3764705882352941,\"rgb(150,27,91)\"],[0.4392156862745098,\"rgb(177,22,88)\"],[0.5019607843137255,\"rgb(203,26,79)\"],[0.5647058823529412,\"rgb(223,47,67)\"],[0.6274509803921569,\"rgb(236,76,61)\"],[0.6901960784313725,\"rgb(242,107,73)\"],[0.7529411764705882,\"rgb(244,135,95)\"],[0.8156862745098039,\"rgb(245,162,122)\"],[0.8784313725490196,\"rgb(246,188,153)\"],[0.9411764705882353,\"rgb(247,212,187)\"],[1.0,\"rgb(250,234,220)\"]]},\"colorway\":[\"rgb(76,114,176)\",\"rgb(221,132,82)\",\"rgb(85,168,104)\",\"rgb(196,78,82)\",\"rgb(129,114,179)\",\"rgb(147,120,96)\",\"rgb(218,139,195)\",\"rgb(140,140,140)\",\"rgb(204,185,116)\",\"rgb(100,181,205)\"],\"font\":{\"color\":\"rgb(36,36,36)\"},\"geo\":{\"bgcolor\":\"white\",\"lakecolor\":\"white\",\"landcolor\":\"rgb(234,234,242)\",\"showlakes\":true,\"showland\":true,\"subunitcolor\":\"white\"},\"hoverlabel\":{\"align\":\"left\"},\"hovermode\":\"closest\",\"paper_bgcolor\":\"white\",\"plot_bgcolor\":\"rgb(234,234,242)\",\"polar\":{\"angularaxis\":{\"gridcolor\":\"white\",\"linecolor\":\"white\",\"showgrid\":true,\"ticks\":\"\"},\"bgcolor\":\"rgb(234,234,242)\",\"radialaxis\":{\"gridcolor\":\"white\",\"linecolor\":\"white\",\"showgrid\":true,\"ticks\":\"\"}},\"scene\":{\"xaxis\":{\"backgroundcolor\":\"rgb(234,234,242)\",\"gridcolor\":\"white\",\"gridwidth\":2,\"linecolor\":\"white\",\"showbackground\":true,\"showgrid\":true,\"ticks\":\"\",\"zerolinecolor\":\"white\"},\"yaxis\":{\"backgroundcolor\":\"rgb(234,234,242)\",\"gridcolor\":\"white\",\"gridwidth\":2,\"linecolor\":\"white\",\"showbackground\":true,\"showgrid\":true,\"ticks\":\"\",\"zerolinecolor\":\"white\"},\"zaxis\":{\"backgroundcolor\":\"rgb(234,234,242)\",\"gridcolor\":\"white\",\"gridwidth\":2,\"linecolor\":\"white\",\"showbackground\":true,\"showgrid\":true,\"ticks\":\"\",\"zerolinecolor\":\"white\"}},\"shapedefaults\":{\"fillcolor\":\"rgb(67,103,167)\",\"line\":{\"width\":0},\"opacity\":0.5},\"ternary\":{\"aaxis\":{\"gridcolor\":\"white\",\"linecolor\":\"white\",\"showgrid\":true,\"ticks\":\"\"},\"baxis\":{\"gridcolor\":\"white\",\"linecolor\":\"white\",\"showgrid\":true,\"ticks\":\"\"},\"bgcolor\":\"rgb(234,234,242)\",\"caxis\":{\"gridcolor\":\"white\",\"linecolor\":\"white\",\"showgrid\":true,\"ticks\":\"\"}},\"xaxis\":{\"automargin\":true,\"gridcolor\":\"white\",\"linecolor\":\"white\",\"showgrid\":true,\"ticks\":\"\",\"title\":{\"standoff\":15},\"zerolinecolor\":\"white\"},\"yaxis\":{\"automargin\":true,\"gridcolor\":\"white\",\"linecolor\":\"white\",\"showgrid\":true,\"ticks\":\"\",\"title\":{\"standoff\":15},\"zerolinecolor\":\"white\"}}},\"xaxis\":{\"anchor\":\"y\",\"domain\":[0.0,1.0],\"title\":{\"text\":\"Region\"},\"categoryorder\":\"array\",\"categoryarray\":[\"Meghalaya\",\"Odisha\",\"Assam\",\"Uttarakhand\",\"Gujarat\",\"Karnataka\",\"Sikkim\",\"Madhya Pradesh\",\"Andhra Pradesh\",\"Maharashtra\",\"Telangana\",\"West Bengal\",\"Chhattisgarh\",\"Goa\",\"Tamil Nadu\",\"Kerala\",\"Puducherry\",\"Punjab\",\"Uttar Pradesh\",\"Rajasthan\",\"Chandigarh\",\"Jammu & Kashmir\",\"Delhi\",\"Himachal Pradesh\",\"Bihar\",\"Jharkhand\",\"Haryana\",\"Tripura\"]},\"yaxis\":{\"anchor\":\"x\",\"domain\":[0.0,1.0],\"title\":{\"text\":\" Estimated Unemployment Rate (%)\"}},\"legend\":{\"title\":{\"text\":\"Region\"},\"tracegroupgap\":0},\"title\":{\"text\":\"Average unemployment rate in each state\"},\"barmode\":\"relative\"},                        {\"responsive\": true}                    ).then(function(){\n",
              "                            \n",
              "var gd = document.getElementById('0f43bbb6-9e35-4bce-a6eb-bd22dfdccceb');\n",
              "var x = new MutationObserver(function (mutations, observer) {{\n",
              "        var display = window.getComputedStyle(gd).display;\n",
              "        if (!display || display === 'none') {{\n",
              "            console.log([gd, 'removed!']);\n",
              "            Plotly.purge(gd);\n",
              "            observer.disconnect();\n",
              "        }}\n",
              "}});\n",
              "\n",
              "// Listen for the removal of the full notebook cells\n",
              "var notebookContainer = gd.closest('#notebook-container');\n",
              "if (notebookContainer) {{\n",
              "    x.observe(notebookContainer, {childList: true});\n",
              "}}\n",
              "\n",
              "// Listen for the clearing of the current output cell\n",
              "var outputEl = gd.closest('.output');\n",
              "if (outputEl) {{\n",
              "    x.observe(outputEl, {childList: true});\n",
              "}}\n",
              "\n",
              "                        })                };                            </script>        </div>\n",
              "</body>\n",
              "</html>"
            ]
          },
          "metadata": {}
        }
      ]
    },
    {
      "cell_type": "markdown",
      "source": [
        "### Unemployment rate State v/s Region"
      ],
      "metadata": {
        "id": "0ZorSZIwPQR-"
      }
    },
    {
      "cell_type": "code",
      "source": [
        "unemployed_data = data[['Region', 'Area', ' Estimated Unemployment Rate (%)', ' Estimated Employed', ' Estimated Labour Participation Rate (%)']]\n",
        "\n",
        "unemployed = unemployed_data.groupby(['Area', 'Region'])[' Estimated Unemployment Rate (%)'].mean().reset_index()\n",
        "\n",
        "fig = px.sunburst(unemployed, path=['Area', 'Region'], values=' Estimated Unemployment Rate (%)', color_continuous_scale='rdylbu',\n",
        "                  title='Unemployment rate in each Region and State', height=550, template='presentation')\n",
        "\n",
        "fig.show()"
      ],
      "metadata": {
        "colab": {
          "base_uri": "https://localhost:8080/",
          "height": 567
        },
        "id": "r1HpEE8PoZfj",
        "outputId": "ae86d6af-2196-4cb0-eda6-ce188330e5f9"
      },
      "execution_count": 24,
      "outputs": [
        {
          "output_type": "display_data",
          "data": {
            "text/html": [
              "<html>\n",
              "<head><meta charset=\"utf-8\" /></head>\n",
              "<body>\n",
              "    <div>            <script src=\"https://cdnjs.cloudflare.com/ajax/libs/mathjax/2.7.5/MathJax.js?config=TeX-AMS-MML_SVG\"></script><script type=\"text/javascript\">if (window.MathJax && window.MathJax.Hub && window.MathJax.Hub.Config) {window.MathJax.Hub.Config({SVG: {font: \"STIX-Web\"}});}</script>                <script type=\"text/javascript\">window.PlotlyConfig = {MathJaxConfig: 'local'};</script>\n",
              "        <script charset=\"utf-8\" src=\"https://cdn.plot.ly/plotly-2.24.1.min.js\"></script>                <div id=\"793c2633-3821-4762-9f41-f9f42e09c09a\" class=\"plotly-graph-div\" style=\"height:550px; width:100%;\"></div>            <script type=\"text/javascript\">                                    window.PLOTLYENV=window.PLOTLYENV || {};                                    if (document.getElementById(\"793c2633-3821-4762-9f41-f9f42e09c09a\")) {                    Plotly.newPlot(                        \"793c2633-3821-4762-9f41-f9f42e09c09a\",                        [{\"branchvalues\":\"total\",\"domain\":{\"x\":[0.0,1.0],\"y\":[0.0,1.0]},\"hovertemplate\":\"labels=%{label}\\u003cbr\\u003e Estimated Unemployment Rate (%)=%{value}\\u003cbr\\u003eparent=%{parent}\\u003cbr\\u003eid=%{id}\\u003cextra\\u003e\\u003c\\u002fextra\\u003e\",\"ids\":[\"Rural\\u002fAndhra Pradesh\",\"Urban\\u002fAndhra Pradesh\",\"Rural\\u002fAssam\",\"Urban\\u002fAssam\",\"Rural\\u002fBihar\",\"Urban\\u002fBihar\",\"Urban\\u002fChandigarh\",\"Rural\\u002fChhattisgarh\",\"Urban\\u002fChhattisgarh\",\"Rural\\u002fDelhi\",\"Urban\\u002fDelhi\",\"Rural\\u002fGoa\",\"Urban\\u002fGoa\",\"Rural\\u002fGujarat\",\"Urban\\u002fGujarat\",\"Rural\\u002fHaryana\",\"Urban\\u002fHaryana\",\"Rural\\u002fHimachal Pradesh\",\"Urban\\u002fHimachal Pradesh\",\"Rural\\u002fJammu & Kashmir\",\"Urban\\u002fJammu & Kashmir\",\"Rural\\u002fJharkhand\",\"Urban\\u002fJharkhand\",\"Rural\\u002fKarnataka\",\"Urban\\u002fKarnataka\",\"Rural\\u002fKerala\",\"Urban\\u002fKerala\",\"Rural\\u002fMadhya Pradesh\",\"Urban\\u002fMadhya Pradesh\",\"Rural\\u002fMaharashtra\",\"Urban\\u002fMaharashtra\",\"Rural\\u002fMeghalaya\",\"Urban\\u002fMeghalaya\",\"Rural\\u002fOdisha\",\"Urban\\u002fOdisha\",\"Rural\\u002fPuducherry\",\"Urban\\u002fPuducherry\",\"Rural\\u002fPunjab\",\"Urban\\u002fPunjab\",\"Rural\\u002fRajasthan\",\"Urban\\u002fRajasthan\",\"Rural\\u002fSikkim\",\"Urban\\u002fSikkim\",\"Rural\\u002fTamil Nadu\",\"Urban\\u002fTamil Nadu\",\"Rural\\u002fTelangana\",\"Urban\\u002fTelangana\",\"Rural\\u002fTripura\",\"Urban\\u002fTripura\",\"Rural\\u002fUttar Pradesh\",\"Urban\\u002fUttar Pradesh\",\"Rural\\u002fUttarakhand\",\"Urban\\u002fUttarakhand\",\"Rural\\u002fWest Bengal\",\"Urban\\u002fWest Bengal\",\"Rural\",\"Urban\"],\"labels\":[\"Andhra Pradesh\",\"Andhra Pradesh\",\"Assam\",\"Assam\",\"Bihar\",\"Bihar\",\"Chandigarh\",\"Chhattisgarh\",\"Chhattisgarh\",\"Delhi\",\"Delhi\",\"Goa\",\"Goa\",\"Gujarat\",\"Gujarat\",\"Haryana\",\"Haryana\",\"Himachal Pradesh\",\"Himachal Pradesh\",\"Jammu & Kashmir\",\"Jammu & Kashmir\",\"Jharkhand\",\"Jharkhand\",\"Karnataka\",\"Karnataka\",\"Kerala\",\"Kerala\",\"Madhya Pradesh\",\"Madhya Pradesh\",\"Maharashtra\",\"Maharashtra\",\"Meghalaya\",\"Meghalaya\",\"Odisha\",\"Odisha\",\"Puducherry\",\"Puducherry\",\"Punjab\",\"Punjab\",\"Rajasthan\",\"Rajasthan\",\"Sikkim\",\"Sikkim\",\"Tamil Nadu\",\"Tamil Nadu\",\"Telangana\",\"Telangana\",\"Tripura\",\"Tripura\",\"Uttar Pradesh\",\"Uttar Pradesh\",\"Uttarakhand\",\"Uttarakhand\",\"West Bengal\",\"West Bengal\",\"Rural\",\"Urban\"],\"name\":\"\",\"parents\":[\"Rural\",\"Urban\",\"Rural\",\"Urban\",\"Rural\",\"Urban\",\"Urban\",\"Rural\",\"Urban\",\"Rural\",\"Urban\",\"Rural\",\"Urban\",\"Rural\",\"Urban\",\"Rural\",\"Urban\",\"Rural\",\"Urban\",\"Rural\",\"Urban\",\"Rural\",\"Urban\",\"Rural\",\"Urban\",\"Rural\",\"Urban\",\"Rural\",\"Urban\",\"Rural\",\"Urban\",\"Rural\",\"Urban\",\"Rural\",\"Urban\",\"Rural\",\"Urban\",\"Rural\",\"Urban\",\"Rural\",\"Urban\",\"Rural\",\"Urban\",\"Rural\",\"Urban\",\"Rural\",\"Urban\",\"Rural\",\"Urban\",\"Rural\",\"Urban\",\"Rural\",\"Urban\",\"Rural\",\"Urban\",\"\",\"\"],\"values\":[5.526428571428572,9.427857142857144,4.490833333333334,8.088571428571429,16.77,21.06642857142857,15.991666666666667,6.628571428571428,11.852142857142857,15.258571428571429,17.732142857142858,8.39,10.158333333333333,5.917142857142857,7.410714285714286,25.012857142857143,27.553571428571427,15.504285714285714,21.576428571428572,14.951818181818181,17.549,15.221428571428572,25.94857142857143,7.224285714285714,6.127857142857144,10.34142857142857,9.906428571428572,5.653571428571429,9.159285714285716,6.8100000000000005,8.305,2.4750000000000005,7.3015384615384615,6.612857142857143,4.702857142857143,7.263333333333333,12.745000000000001,11.924999999999999,12.137142857142859,10.927142857142856,17.189285714285713,5.08,8.153333333333334,8.775714285714285,9.792857142857143,7.863571428571428,7.6121428571428575,27.166428571428572,29.534285714285716,10.20857142857143,14.894285714285715,4.882307692307692,8.162142857142857,7.5721428571428575,8.677142857142858,274.4532925407925,368.75601465201464],\"type\":\"sunburst\"}],                        {\"template\":{\"data\":{\"pie\":[{\"automargin\":true,\"type\":\"pie\"}],\"scatter3d\":[{\"line\":{\"width\":3},\"marker\":{\"size\":9},\"type\":\"scatter3d\"}],\"scattergeo\":[{\"line\":{\"width\":3},\"marker\":{\"size\":9},\"type\":\"scattergeo\"}],\"scattergl\":[{\"line\":{\"width\":3},\"marker\":{\"size\":9},\"type\":\"scattergl\"}],\"scatterpolargl\":[{\"line\":{\"width\":3},\"marker\":{\"size\":9},\"type\":\"scatterpolargl\"}],\"scatterpolar\":[{\"line\":{\"width\":3},\"marker\":{\"size\":9},\"type\":\"scatterpolar\"}],\"scatter\":[{\"line\":{\"width\":3},\"marker\":{\"size\":9},\"type\":\"scatter\"}],\"scatterternary\":[{\"line\":{\"width\":3},\"marker\":{\"size\":9},\"type\":\"scatterternary\"}],\"table\":[{\"cells\":{\"height\":30},\"header\":{\"height\":36},\"type\":\"table\"}]},\"layout\":{\"font\":{\"size\":18},\"xaxis\":{\"title\":{\"standoff\":15}},\"yaxis\":{\"title\":{\"standoff\":15}}}},\"legend\":{\"tracegroupgap\":0},\"title\":{\"text\":\"Unemployment rate in each Region and State\"},\"height\":550},                        {\"responsive\": true}                    ).then(function(){\n",
              "                            \n",
              "var gd = document.getElementById('793c2633-3821-4762-9f41-f9f42e09c09a');\n",
              "var x = new MutationObserver(function (mutations, observer) {{\n",
              "        var display = window.getComputedStyle(gd).display;\n",
              "        if (!display || display === 'none') {{\n",
              "            console.log([gd, 'removed!']);\n",
              "            Plotly.purge(gd);\n",
              "            observer.disconnect();\n",
              "        }}\n",
              "}});\n",
              "\n",
              "// Listen for the removal of the full notebook cells\n",
              "var notebookContainer = gd.closest('#notebook-container');\n",
              "if (notebookContainer) {{\n",
              "    x.observe(notebookContainer, {childList: true});\n",
              "}}\n",
              "\n",
              "// Listen for the clearing of the current output cell\n",
              "var outputEl = gd.closest('.output');\n",
              "if (outputEl) {{\n",
              "    x.observe(outputEl, {childList: true});\n",
              "}}\n",
              "\n",
              "                        })                };                            </script>        </div>\n",
              "</body>\n",
              "</html>"
            ]
          },
          "metadata": {}
        }
      ]
    },
    {
      "cell_type": "markdown",
      "source": [
        "### Visualizing change in unemployment rates from year 2019 to year 2020"
      ],
      "metadata": {
        "id": "RC5ILLAfPgnR"
      }
    },
    {
      "cell_type": "code",
      "source": [
        "data_2019 = data[data['Year'] == 2019]\n",
        "data_2020 = data[data['Year'] == 2020]\n",
        "\n",
        "# Calculating mean unemployment rate for each region for 2019 and 2020\n",
        "reg_means2019 = data_2019.groupby(['Region'])[' Estimated Unemployment Rate (%)'].mean()\n",
        "reg_means2020 = data_2020.groupby(['Region'])[' Estimated Unemployment Rate (%)'].mean()\n",
        "\n",
        "# Combining the results into a single DataFrame\n",
        "combined = pd.DataFrame({'2019': reg_means2019, '2020': reg_means2020}).reset_index()\n",
        "\n",
        "# Plotting the double bar graph\n",
        "fig, ax = plt.subplots(figsize=(12, 6))\n",
        "\n",
        "# Define bar width\n",
        "bar_width = 0.35\n",
        "\n",
        "# Set positions of the bars on the x-axis\n",
        "r1 = range(len(combined))\n",
        "r2 = [x + bar_width for x in r1]\n",
        "\n",
        "# Plot bars\n",
        "ax.bar(r1, combined['2019'], color='blue', width=bar_width, edgecolor='grey', label='2019')\n",
        "ax.bar(r2, combined['2020'], color='orange', width=bar_width, edgecolor='grey', label='2020')\n",
        "\n",
        "# Add labels, title, and custom x-axis tick labels\n",
        "ax.set_xlabel('Region', fontweight='bold')\n",
        "ax.set_ylabel('Mean Unemployment Rate (%)', fontweight='bold')\n",
        "ax.set_title('Mean Unemployment Rate by Region for 2019 and 2020', fontweight='bold')\n",
        "ax.set_xticks([r + bar_width/2 for r in range(len(combined))])\n",
        "ax.set_xticklabels(combined['Region'])\n",
        "\n",
        "plt.xticks(rotation=90)\n",
        "# Add legend\n",
        "ax.legend()\n",
        "\n",
        "# Display the plot\n",
        "plt.show()"
      ],
      "metadata": {
        "colab": {
          "base_uri": "https://localhost:8080/",
          "height": 675
        },
        "id": "6IiJWxv2F8Pu",
        "outputId": "7e27b59a-3650-428a-834f-af5f6c959927"
      },
      "execution_count": 41,
      "outputs": [
        {
          "output_type": "display_data",
          "data": {
            "text/plain": [
              "<Figure size 1200x600 with 1 Axes>"
            ],
            "image/png": "[encoded data removed]"
          },
          "metadata": {}
        }
      ]
    },
    {
      "cell_type": "markdown",
      "source": [
        "### Monthly analysis of unemployment rates for years 2019 and 2020"
      ],
      "metadata": {
        "id": "Ts_gRl6HWmpf"
      }
    },
    {
      "cell_type": "code",
      "source": [
        "data['Month']= data[' Date'].dt.month_name()\n",
        "mon_mean= data.groupby(['Month'])[' Estimated Unemployment Rate (%)'].mean()\n",
        "\n",
        "plt.figure(figsize=(10, 6))\n",
        "plt.bar(mon_mean.index, mon_mean.values)\n",
        "plt.xlabel('Month')\n",
        "plt.ylabel('Mean Unemployment Rate (%)')\n",
        "plt.title('Mean Monthly Unemployment Rates')\n",
        "plt.xticks(rotation=90)\n",
        "plt.show()"
      ],
      "metadata": {
        "colab": {
          "base_uri": "https://localhost:8080/",
          "height": 627
        },
        "id": "Cjs7ad3nIn5M",
        "outputId": "08f18686-1272-413c-ae66-4f67fd6f025d"
      },
      "execution_count": 65,
      "outputs": [
        {
          "output_type": "display_data",
          "data": {
            "text/plain": [
              "<Figure size 1000x600 with 1 Axes>"
            ],
            "image/png": "[encoded data removed]"
          },
          "metadata": {}
        }
      ]
    },
    {
      "cell_type": "code",
      "source": [],
      "metadata": {
        "id": "CVg-BPSBQTLk"
      },
      "execution_count": null,
      "outputs": []
    }
  ]
}